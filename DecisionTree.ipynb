{
 "cells": [
  {
   "cell_type": "markdown",
   "id": "a36e8219",
   "metadata": {
    "toc": true
   },
   "source": [
    "<h1>Table of Contents<span class=\"tocSkip\"></span></h1>\n",
    "<div class=\"toc\"><ul class=\"toc-item\"><li><span><a href=\"#Import-Libaries\" data-toc-modified-id=\"Import-Libaries-1\"><span class=\"toc-item-num\">1&nbsp;&nbsp;</span>Import Libaries</a></span></li><li><span><a href=\"#Entropy\" data-toc-modified-id=\"Entropy-2\"><span class=\"toc-item-num\">2&nbsp;&nbsp;</span>Entropy</a></span></li><li><span><a href=\"#Load-data\" data-toc-modified-id=\"Load-data-3\"><span class=\"toc-item-num\">3&nbsp;&nbsp;</span>Load data</a></span></li><li><span><a href=\"#Splitting-dataset-into-train-and-test\" data-toc-modified-id=\"Splitting-dataset-into-train-and-test-4\"><span class=\"toc-item-num\">4&nbsp;&nbsp;</span>Splitting dataset into train and test</a></span></li><li><span><a href=\"#Build-the-descion-tree-model-clf1\" data-toc-modified-id=\"Build-the-descion-tree-model-clf1-5\"><span class=\"toc-item-num\">5&nbsp;&nbsp;</span>Build the descion tree model clf1</a></span></li><li><span><a href=\"#Accuracy-score\" data-toc-modified-id=\"Accuracy-score-6\"><span class=\"toc-item-num\">6&nbsp;&nbsp;</span>Accuracy score</a></span></li><li><span><a href=\"#Model-optimization\" data-toc-modified-id=\"Model-optimization-7\"><span class=\"toc-item-num\">7&nbsp;&nbsp;</span>Model optimization</a></span><ul class=\"toc-item\"><li><span><a href=\"#Build-the-descion-tree-model-clf2\" data-toc-modified-id=\"Build-the-descion-tree-model-clf2-7.1\"><span class=\"toc-item-num\">7.1&nbsp;&nbsp;</span>Build the descion tree model clf2</a></span></li><li><span><a href=\"#Accuracy\" data-toc-modified-id=\"Accuracy-7.2\"><span class=\"toc-item-num\">7.2&nbsp;&nbsp;</span>Accuracy</a></span></li></ul></li><li><span><a href=\"#Analysing-decision-tree\" data-toc-modified-id=\"Analysing-decision-tree-8\"><span class=\"toc-item-num\">8&nbsp;&nbsp;</span>Analysing decision tree</a></span></li><li><span><a href=\"#Feature-importance\" data-toc-modified-id=\"Feature-importance-9\"><span class=\"toc-item-num\">9&nbsp;&nbsp;</span>Feature importance</a></span><ul class=\"toc-item\"><li><span><a href=\"#Feature-importance-visualization\" data-toc-modified-id=\"Feature-importance-visualization-9.1\"><span class=\"toc-item-num\">9.1&nbsp;&nbsp;</span>Feature importance visualization</a></span></li></ul></li><li><span><a href=\"#Conclusion\" data-toc-modified-id=\"Conclusion-10\"><span class=\"toc-item-num\">10&nbsp;&nbsp;</span>Conclusion</a></span></li></ul></div>"
   ]
  },
  {
   "cell_type": "code",
   "execution_count": 3,
   "id": "2ff49f84",
   "metadata": {},
   "outputs": [
    {
     "name": "stdout",
     "output_type": "stream",
     "text": [
      "Requirement already satisfied: mglearn in c:\\users\\mirnamamaranda\\anaconda3\\lib\\site-packages (0.1.9)\n",
      "Requirement already satisfied: numpy in c:\\users\\mirnamamaranda\\anaconda3\\lib\\site-packages (from mglearn) (1.19.2)\n",
      "Requirement already satisfied: joblib in c:\\users\\mirnamamaranda\\anaconda3\\lib\\site-packages (from mglearn) (1.0.1)\n",
      "Requirement already satisfied: matplotlib in c:\\users\\mirnamamaranda\\anaconda3\\lib\\site-packages (from mglearn) (3.3.4)\n",
      "Requirement already satisfied: pandas in c:\\users\\mirnamamaranda\\anaconda3\\lib\\site-packages (from mglearn) (1.2.3)\n",
      "Requirement already satisfied: cycler in c:\\users\\mirnamamaranda\\anaconda3\\lib\\site-packages (from mglearn) (0.10.0)\n",
      "Requirement already satisfied: pillow in c:\\users\\mirnamamaranda\\anaconda3\\lib\\site-packages (from mglearn) (8.2.0)\n",
      "Requirement already satisfied: imageio in c:\\users\\mirnamamaranda\\anaconda3\\lib\\site-packages (from mglearn) (2.9.0)\n",
      "Requirement already satisfied: scikit-learn in c:\\users\\mirnamamaranda\\anaconda3\\lib\\site-packages (from mglearn) (0.24.1)\n",
      "Requirement already satisfied: six in c:\\users\\mirnamamaranda\\anaconda3\\lib\\site-packages (from cycler->mglearn) (1.15.0)\n",
      "Requirement already satisfied: kiwisolver>=1.0.1 in c:\\users\\mirnamamaranda\\anaconda3\\lib\\site-packages (from matplotlib->mglearn) (1.3.1)\n",
      "Requirement already satisfied: pyparsing!=2.0.4,!=2.1.2,!=2.1.6,>=2.0.3 in c:\\users\\mirnamamaranda\\anaconda3\\lib\\site-packages (from matplotlib->mglearn) (2.4.7)\n",
      "Requirement already satisfied: python-dateutil>=2.1 in c:\\users\\mirnamamaranda\\anaconda3\\lib\\site-packages (from matplotlib->mglearn) (2.8.1)\n",
      "Requirement already satisfied: pytz>=2017.3 in c:\\users\\mirnamamaranda\\anaconda3\\lib\\site-packages (from pandas->mglearn) (2021.1)\n",
      "Requirement already satisfied: threadpoolctl>=2.0.0 in c:\\users\\mirnamamaranda\\anaconda3\\lib\\site-packages (from scikit-learn->mglearn) (2.1.0)\n",
      "Requirement already satisfied: scipy>=0.19.1 in c:\\users\\mirnamamaranda\\anaconda3\\lib\\site-packages (from scikit-learn->mglearn) (1.4.1)\n"
     ]
    }
   ],
   "source": [
    "\n",
    "! pip install mglearn\n"
   ]
  },
  {
   "cell_type": "markdown",
   "id": "0340e2e3",
   "metadata": {},
   "source": [
    "# Import Libaries"
   ]
  },
  {
   "cell_type": "code",
   "execution_count": 30,
   "id": "340fd0d1",
   "metadata": {},
   "outputs": [],
   "source": [
    "import os\n",
    "import pandas as pd\n",
    "import numpy as np\n",
    "import matplotlib.pyplot as plt\n",
    "from sklearn.tree import DecisionTreeClassifier"
   ]
  },
  {
   "cell_type": "markdown",
   "id": "0b22a260",
   "metadata": {},
   "source": [
    "# Entropy"
   ]
  },
  {
   "cell_type": "code",
   "execution_count": 43,
   "id": "e30065ab",
   "metadata": {},
   "outputs": [],
   "source": [
    "from math import log\n",
    "\n",
    "def entropy(n,m):\n",
    "    if n==0 or m==0:\n",
    "        return 0\n",
    "    p=float(n)/(n+m)\n",
    "    q=float(m)/(n+m)\n",
    "    return -p*log(p,2)-q*log(q,2)"
   ]
  },
  {
   "cell_type": "markdown",
   "id": "934c84b3",
   "metadata": {},
   "source": [
    "# Load data"
   ]
  },
  {
   "cell_type": "code",
   "execution_count": 31,
   "id": "4a845240",
   "metadata": {},
   "outputs": [],
   "source": [
    "from sklearn.datasets import load_breast_cancer\n",
    "cancer = load_breast_cancer()"
   ]
  },
  {
   "cell_type": "markdown",
   "id": "ce92b6e8",
   "metadata": {},
   "source": [
    "# Splitting dataset into train and test"
   ]
  },
  {
   "cell_type": "code",
   "execution_count": 32,
   "id": "d4b1ea4a",
   "metadata": {},
   "outputs": [],
   "source": [
    "from sklearn.model_selection import train_test_split\n",
    "x_train,x_test,y_train,y_test=train_test_split(cancer.data, cancer.target, stratify=cancer.target, random_state=42)"
   ]
  },
  {
   "cell_type": "markdown",
   "id": "8210ff10",
   "metadata": {},
   "source": [
    "# Build the descion tree model clf1"
   ]
  },
  {
   "cell_type": "code",
   "execution_count": 33,
   "id": "e7d61825",
   "metadata": {},
   "outputs": [
    {
     "data": {
      "text/plain": [
       "DecisionTreeClassifier()"
      ]
     },
     "execution_count": 33,
     "metadata": {},
     "output_type": "execute_result"
    }
   ],
   "source": [
    "clf1=DecisionTreeClassifier() \n",
    "clf1.fit(x_train,y_train)"
   ]
  },
  {
   "cell_type": "markdown",
   "id": "bf4f58d4",
   "metadata": {},
   "source": [
    "# Accuracy score"
   ]
  },
  {
   "cell_type": "code",
   "execution_count": 34,
   "id": "1ef18531",
   "metadata": {},
   "outputs": [
    {
     "name": "stdout",
     "output_type": "stream",
     "text": [
      "Accuracy on training set: 1.000\n",
      "Accuracy on test set: 0.916\n"
     ]
    }
   ],
   "source": [
    "print(\"Accuracy on training set: {:.3f}\".format(clf1.score(x_train, y_train)))\n",
    "print(\"Accuracy on test set: {:.3f}\".format(clf1.score(x_test, y_test)))"
   ]
  },
  {
   "cell_type": "markdown",
   "id": "aa13ba84",
   "metadata": {},
   "source": [
    "# Model optimization "
   ]
  },
  {
   "cell_type": "markdown",
   "id": "065d2b50",
   "metadata": {},
   "source": [
    "## Build the descion tree model clf2"
   ]
  },
  {
   "cell_type": "code",
   "execution_count": 35,
   "id": "b4b2a4f2",
   "metadata": {},
   "outputs": [
    {
     "data": {
      "text/plain": [
       "DecisionTreeClassifier(max_depth=4, random_state=0)"
      ]
     },
     "execution_count": 35,
     "metadata": {},
     "output_type": "execute_result"
    }
   ],
   "source": [
    "clf2 = DecisionTreeClassifier(max_depth=4, random_state=0)\n",
    "clf2.fit(x_train, y_train)"
   ]
  },
  {
   "cell_type": "markdown",
   "id": "96acc16a",
   "metadata": {},
   "source": [
    "## Accuracy"
   ]
  },
  {
   "cell_type": "code",
   "execution_count": 36,
   "id": "8dd025b9",
   "metadata": {},
   "outputs": [
    {
     "name": "stdout",
     "output_type": "stream",
     "text": [
      "Accuracy on training set: 0.988\n",
      "Accuracy on test set: 0.951\n"
     ]
    }
   ],
   "source": [
    "print(\"Accuracy on training set: {:.3f}\".format(clf2.score(x_train, y_train)))\n",
    "print(\"Accuracy on test set: {:.3f}\".format(clf2.score(x_test, y_test)))"
   ]
  },
  {
   "cell_type": "markdown",
   "id": "324c22e1",
   "metadata": {},
   "source": [
    "# Analysing decision tree"
   ]
  },
  {
   "cell_type": "code",
   "execution_count": 23,
   "id": "65a4f22f",
   "metadata": {},
   "outputs": [
    {
     "name": "stdout",
     "output_type": "stream",
     "text": [
      "Collecting package metadata (current_repodata.json): ...working... done\n",
      "Solving environment: ...working... done\n",
      "\n",
      "## Package Plan ##\n",
      "\n",
      "  environment location: C:\\Users\\mirnamamaranda\\anaconda3\\Anaconda\n",
      "\n",
      "  added / updated specs:\n",
      "    - graphviz\n",
      "\n",
      "\n",
      "The following packages will be downloaded:\n",
      "\n",
      "    package                    |            build\n",
      "    ---------------------------|-----------------\n",
      "    graphviz-2.38              |       hfd603c8_2        29.3 MB\n",
      "    ------------------------------------------------------------\n",
      "                                           Total:        29.3 MB\n",
      "\n",
      "The following NEW packages will be INSTALLED:\n",
      "\n",
      "  graphviz           pkgs/main/win-64::graphviz-2.38-hfd603c8_2\n",
      "\n",
      "\n",
      "\n",
      "Downloading and Extracting Packages\n",
      "\n",
      "graphviz-2.38        | 29.3 MB   |            |   0% \n",
      "graphviz-2.38        | 29.3 MB   |            |   0% \n",
      "graphviz-2.38        | 29.3 MB   | #1         |  11% \n",
      "Note: you may need to restart the kernel to use updated packages.\n",
      "graphviz-2.38        | 29.3 MB   | ##9        |  29% \n",
      "graphviz-2.38        | 29.3 MB   | #####      |  50% \n",
      "graphviz-2.38        | 29.3 MB   | #######    |  70% \n",
      "graphviz-2.38        | 29.3 MB   | ########9  |  89% \n",
      "graphviz-2.38        | 29.3 MB   | ########## | 100% \n",
      "Preparing transaction: ...working... done\n",
      "Verifying transaction: ...working... done\n",
      "Executing transaction: ...working... done\n",
      "\n"
     ]
    }
   ],
   "source": [
    "conda install graphviz\n"
   ]
  },
  {
   "cell_type": "code",
   "execution_count": 24,
   "id": "ca017589",
   "metadata": {},
   "outputs": [
    {
     "name": "stdout",
     "output_type": "stream",
     "text": [
      "Collecting package metadata (current_repodata.json): ...working... done\n",
      "Solving environment: ...working... done\n",
      "\n",
      "## Package Plan ##\n",
      "\n",
      "  environment location: C:\\Users\\mirnamamaranda\\anaconda3\\Anaconda\n",
      "\n",
      "  added / updated specs:\n",
      "    - python-graphviz\n",
      "\n",
      "\n",
      "The following packages will be downloaded:\n",
      "\n",
      "    package                    |            build\n",
      "    ---------------------------|-----------------\n",
      "    python-graphviz-0.16       |     pyhd3eb1b0_1          20 KB\n",
      "    ------------------------------------------------------------\n",
      "                                           Total:          20 KB\n",
      "\n",
      "The following NEW packages will be INSTALLED:\n",
      "\n",
      "  python-graphviz    pkgs/main/noarch::python-graphviz-0.16-pyhd3eb1b0_1\n",
      "\n",
      "\n",
      "\n",
      "Downloading and Extracting Packages\n",
      "\n",
      "python-graphviz-0.16 | 20 KB     |            |   0% \n",
      "python-graphviz-0.16 | 20 KB     | #######8   |  78% \n",
      "python-graphviz-0.16 | 20 KB     | ########## | 100% \n",
      "python-graphviz-0.16 | 20 KB     | ########## | 100% \n",
      "Preparing transaction: ...working... done\n",
      "Verifying transaction: ...working... done\n",
      "Executing transaction: ...working... done\n",
      "\n",
      "Note: you may need to restart the kernel to use updated packages.\n"
     ]
    }
   ],
   "source": [
    "conda install python-graphviz"
   ]
  },
  {
   "cell_type": "code",
   "execution_count": 29,
   "id": "6e4c4648",
   "metadata": {},
   "outputs": [
    {
     "data": {
      "text/plain": [
       "[Text(192.01764705882354, 195.696, 'X[20] <= 16.795\\ngini = 0.468\\nsamples = 426\\nvalue = [159, 267]\\nclass = Benign'),\n",
       " Text(108.31764705882354, 152.208, 'X[27] <= 0.136\\ngini = 0.161\\nsamples = 284\\nvalue = [25, 259]\\nclass = Benign'),\n",
       " Text(59.082352941176474, 108.72, 'X[10] <= 1.048\\ngini = 0.031\\nsamples = 252\\nvalue = [4, 248]\\nclass = Benign'),\n",
       " Text(39.38823529411765, 65.232, 'X[14] <= 0.003\\ngini = 0.024\\nsamples = 251\\nvalue = [3, 248]\\nclass = Benign'),\n",
       " Text(19.694117647058825, 21.744, 'gini = 0.375\\nsamples = 4\\nvalue = [1, 3]\\nclass = Benign'),\n",
       " Text(59.082352941176474, 21.744, 'gini = 0.016\\nsamples = 247\\nvalue = [2, 245]\\nclass = Benign'),\n",
       " Text(78.7764705882353, 65.232, 'gini = 0.0\\nsamples = 1\\nvalue = [1, 0]\\nclass = Malignant'),\n",
       " Text(157.5529411764706, 108.72, 'X[21] <= 25.62\\ngini = 0.451\\nsamples = 32\\nvalue = [21, 11]\\nclass = Malignant'),\n",
       " Text(118.16470588235295, 65.232, 'X[24] <= 0.179\\ngini = 0.375\\nsamples = 12\\nvalue = [3, 9]\\nclass = Benign'),\n",
       " Text(98.47058823529412, 21.744, 'gini = 0.18\\nsamples = 10\\nvalue = [1, 9]\\nclass = Benign'),\n",
       " Text(137.85882352941178, 21.744, 'gini = 0.0\\nsamples = 2\\nvalue = [2, 0]\\nclass = Malignant'),\n",
       " Text(196.94117647058823, 65.232, 'X[28] <= 0.268\\ngini = 0.18\\nsamples = 20\\nvalue = [18, 2]\\nclass = Malignant'),\n",
       " Text(177.24705882352941, 21.744, 'gini = 0.444\\nsamples = 3\\nvalue = [1, 2]\\nclass = Benign'),\n",
       " Text(216.63529411764708, 21.744, 'gini = 0.0\\nsamples = 17\\nvalue = [17, 0]\\nclass = Malignant'),\n",
       " Text(275.71764705882356, 152.208, 'X[11] <= 0.473\\ngini = 0.106\\nsamples = 142\\nvalue = [134, 8]\\nclass = Malignant'),\n",
       " Text(256.02352941176474, 108.72, 'gini = 0.0\\nsamples = 5\\nvalue = [0, 5]\\nclass = Benign'),\n",
       " Text(295.4117647058824, 108.72, 'X[26] <= 0.191\\ngini = 0.043\\nsamples = 137\\nvalue = [134, 3]\\nclass = Malignant'),\n",
       " Text(275.71764705882356, 65.232, 'X[21] <= 30.975\\ngini = 0.48\\nsamples = 5\\nvalue = [2, 3]\\nclass = Benign'),\n",
       " Text(256.02352941176474, 21.744, 'gini = 0.0\\nsamples = 3\\nvalue = [0, 3]\\nclass = Benign'),\n",
       " Text(295.4117647058824, 21.744, 'gini = 0.0\\nsamples = 2\\nvalue = [2, 0]\\nclass = Malignant'),\n",
       " Text(315.1058823529412, 65.232, 'gini = 0.0\\nsamples = 132\\nvalue = [132, 0]\\nclass = Malignant')]"
      ]
     },
     "execution_count": 29,
     "metadata": {},
     "output_type": "execute_result"
    },
    {
     "data": {
      "image/png": "[encoded data removed]",
      "text/plain": [
       "<Figure size 432x288 with 1 Axes>"
      ]
     },
     "metadata": {
      "needs_background": "light"
     },
     "output_type": "display_data"
    }
   ],
   "source": [
    "from sklearn import tree\n",
    "tree.plot_tree(clf2,class_names=['Malignant','Benign'])"
   ]
  },
  {
   "cell_type": "markdown",
   "id": "06f04064",
   "metadata": {},
   "source": [
    "# Feature importance"
   ]
  },
  {
   "cell_type": "code",
   "execution_count": 41,
   "id": "4df4206b",
   "metadata": {},
   "outputs": [
    {
     "name": "stdout",
     "output_type": "stream",
     "text": [
      "Feature importances:\n",
      "[0.         0.         0.         0.         0.         0.\n",
      " 0.         0.         0.         0.         0.01019737 0.04839825\n",
      " 0.         0.         0.0024156  0.         0.         0.\n",
      " 0.         0.         0.72682851 0.0458159  0.         0.\n",
      " 0.0141577  0.         0.018188   0.1221132  0.01188548 0.        ]\n"
     ]
    }
   ],
   "source": [
    "print(\"Feature importances:\\n{}\".format(clf2.feature_importances_))"
   ]
  },
  {
   "cell_type": "markdown",
   "id": "03c3babe",
   "metadata": {},
   "source": [
    "## Feature importance visualization "
   ]
  },
  {
   "cell_type": "code",
   "execution_count": 42,
   "id": "a0cd6339",
   "metadata": {},
   "outputs": [
    {
     "data": {
      "image/png": "[encoded data removed]",
      "text/plain": [
       "<Figure size 432x288 with 1 Axes>"
      ]
     },
     "metadata": {
      "needs_background": "light"
     },
     "output_type": "display_data"
    }
   ],
   "source": [
    "def plot_feature_importances_cancer(model):\n",
    "    n_features = cancer.data.shape[1]\n",
    "    plt.barh(range(n_features), model.feature_importances_, align='center')\n",
    "    plt.yticks(np.arange(n_features), cancer.feature_names)\n",
    "    plt.xlabel(\"Feature importance\")\n",
    "    plt.ylabel(\"Feature\")\n",
    "\n",
    "plot_feature_importances_cancer(clf2)"
   ]
  },
  {
   "cell_type": "markdown",
   "id": "51b1f16a",
   "metadata": {},
   "source": [
    "# Conclusion\n",
    "Decision trees have 2 advatages:\n",
    "    1) the model can be easily vusualized and understood\n",
    "    2) no need for data scaling or preprocessing\n",
    "    \n",
    "    One  disadvantage:\n",
    "        Even with pre-pruning, the mdel can still overfit\n",
    "    Solution:\n",
    "            Ensemble method of decision trees."
   ]
  },
  {
   "cell_type": "code",
   "execution_count": null,
   "id": "49d5c603",
   "metadata": {},
   "outputs": [],
   "source": [
    "\n",
    "        "
   ]
  }
 ],
 "metadata": {
  "kernelspec": {
   "display_name": "learn-env",
   "language": "python",
   "name": "learn-env"
  },
  "language_info": {
   "codemirror_mode": {
    "name": "ipython",
    "version": 3
   },
   "file_extension": ".py",
   "mimetype": "text/x-python",
   "name": "python",
   "nbconvert_exporter": "python",
   "pygments_lexer": "ipython3",
   "version": "3.8.5"
  },
  "toc": {
   "base_numbering": 1,
   "nav_menu": {},
   "number_sections": true,
   "sideBar": true,
   "skip_h1_title": false,
   "title_cell": "Table of Contents",
   "title_sidebar": "Contents",
   "toc_cell": true,
   "toc_position": {
    "height": "calc(100% - 180px)",
    "left": "10px",
    "top": "150px",
    "width": "165px"
   },
   "toc_section_display": true,
   "toc_window_display": false
  }
 },
 "nbformat": 4,
 "nbformat_minor": 5
}
